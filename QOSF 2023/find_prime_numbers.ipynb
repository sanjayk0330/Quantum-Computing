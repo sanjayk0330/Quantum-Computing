{
 "cells": [
  {
   "cell_type": "code",
   "execution_count": 37,
   "id": "d005a856",
   "metadata": {},
   "outputs": [],
   "source": [
    "import numpy as np\n",
    "import math\n",
    "from qiskit import QuantumCircuit, Aer, QuantumRegister, ClassicalRegister, execute\n",
    "from qiskit.visualization import plot_histogram\n",
    "from qiskit.circuit.library.basis_change import QFT"
   ]
  },
  {
   "cell_type": "code",
   "execution_count": 38,
   "id": "4a5fbeb1",
   "metadata": {},
   "outputs": [],
   "source": [
    "def increasing_tuple(input_list):\n",
    "    increasing_pairs = []\n",
    "    for i in range(len(input_list)):\n",
    "        for j in range(len(input_list)):\n",
    "            if input_list[i]<= input_list[j]:\n",
    "                increasing_pairs.append((input_list[i], input_list[j]))\n",
    "            else:\n",
    "                pass\n",
    "    return increasing_pairs\n",
    "\n",
    "def target_set_circuit(input_list):\n",
    "    pairs = increasing_tuple(input_list)\n",
    "    num_qubits = int(np.log2(max(input_list)))+1\n",
    "    ts_circuit = QuantumCircuit(2*num_qubits+3)\n",
    "    for j in range(len(pairs)):\n",
    "        for i in range(num_qubits):\n",
    "            if ''.join('1' if x == '0' else '0' for x in bin(pairs[j][0])[2:].zfill(num_qubits))[num_qubits-i-1] == '1':\n",
    "                ts_circuit.x(i)\n",
    "            if ''.join('1' if x == '0' else '0' for x in bin(pairs[j][1])[2:].zfill(num_qubits))[num_qubits-i-1] == '1':\n",
    "                ts_circuit.x(num_qubits + i)\n",
    "        ts_circuit.mcx(list(range(2*num_qubits)), 2*num_qubits+1)\n",
    "        for i in range(num_qubits):\n",
    "            if ''.join('1' if x == '0' else '0' for x in bin(pairs[j][0])[2:].zfill(num_qubits))[num_qubits-i-1] == '1':\n",
    "                ts_circuit.x(i)\n",
    "            if ''.join('1' if x == '0' else '0' for x in bin(pairs[j][1])[2:].zfill(num_qubits))[num_qubits-i-1] == '1':\n",
    "                ts_circuit.x(num_qubits + i)\n",
    "        ts_circuit.barrier(range(2*num_qubits+3))\n",
    "    return ts_circuit\n",
    "\n",
    "def quantum_add_circuit(qubits, target_number):\n",
    "    qa_circuit = QuantumCircuit(2*qubits+1)\n",
    "    qa_circuit.append(QFT(qubits+1, do_swaps=False), list(range(qubits, 2*qubits+1)))\n",
    "    for j in range(qubits):\n",
    "        for k in range(qubits+1-j):\n",
    "            lamda = np.pi / (2 ** (k))\n",
    "            qa_circuit.cp(lamda, j, k+j+qubits)\n",
    "    qa_circuit.append(QFT(qubits+1,do_swaps=False).inverse(), list(range(qubits, 2*qubits+1)))\n",
    "    for i in range(qubits+1):\n",
    "            if ''.join('1' if x == '0' else '0' for x in bin(target_number)[2:].zfill(qubits+1))[qubits-i] == '1':\n",
    "                qa_circuit.x(i+qubits)\n",
    "    return qa_circuit\n",
    "\n",
    "def oracle_circuit(target_number, input_list):\n",
    "    num_qubits = int(np.log2(max(input_list)))+1\n",
    "    ts_circuit = target_set_circuit(input_list)\n",
    "    qa_circuit = quantum_add_circuit(num_qubits, target_number)\n",
    "    o_circuit = QuantumCircuit(2*num_qubits+3)\n",
    "    o_circuit.append(ts_circuit, range(2*num_qubits+3))\n",
    "    o_circuit.append(qa_circuit, range(2*num_qubits+1))\n",
    "    o_circuit.mcx(list(range(num_qubits, 2*num_qubits+1)), 2*num_qubits+2)\n",
    "    o_circuit.cz(2*num_qubits+1,2*num_qubits+2)\n",
    "    o_circuit.mcx(list(range(num_qubits, 2*num_qubits+1)), 2*num_qubits+2)\n",
    "    o_circuit.append(qa_circuit.inverse(), range(2*num_qubits+1))\n",
    "    o_circuit.append(ts_circuit.inverse(), range(2*num_qubits+3))\n",
    "    return o_circuit\n",
    "\n",
    "def diffusion_circuit(qubits):\n",
    "    d_circuit = QuantumCircuit(2*qubits+1)\n",
    "    d_circuit.h(range(2*qubits))\n",
    "    d_circuit.x(range(2*qubits))\n",
    "    d_circuit.h(2*qubits-1)\n",
    "    d_circuit.mct(list(range(2*qubits-1)), 2*qubits-1) \n",
    "    d_circuit.h(2*qubits-1)\n",
    "    d_circuit.x(range(2*qubits))\n",
    "    d_circuit.h(range(2*qubits))\n",
    "    return d_circuit\n",
    "\n",
    "\n",
    "def prime_number_circuit(target_number, input_list):\n",
    "    num_qubits = int(np.log2(max(input_list)))+1\n",
    "    o_circuit = oracle_circuit(target_number, input_list)\n",
    "    d_circuit = diffusion_circuit(num_qubits)\n",
    "    pn_circuit = QuantumCircuit(2*num_qubits+3, 2*num_qubits)\n",
    "    pn_circuit.h(range(2*num_qubits))\n",
    "    pn_circuit.barrier(range(2*num_qubits+3))\n",
    "    for j in range(num_qubits):\n",
    "        pn_circuit.append(o_circuit, range(2*num_qubits+3))\n",
    "        pn_circuit.append(d_circuit, range(2*num_qubits+1))\n",
    "    pn_circuit.measure(list(range(2*num_qubits)),list(range(2*num_qubits)))\n",
    "    return pn_circuit\n",
    "\n",
    "def find_prime_numbers(target_number, input_list):\n",
    "    simulator = Aer.get_backend('qasm_simulator')\n",
    "    num_qubits = int(np.log2(max(input_list)))+1\n",
    "    if target_number > 2*max(input_list):\n",
    "        return print(\"The target number exceeds the maximum sum.\")\n",
    "    pn_circuit = prime_number_circuit(target_number, input_list)\n",
    "    count_quantum_circuit = execute(pn_circuit, backend = simulator, shots = 10000).result().get_counts()\n",
    "    max_binary_counts = 0\n",
    "    max_binary_value = ''\n",
    "    for key, item in count_quantum_circuit.items():\n",
    "        if item > max_binary_counts:\n",
    "            max_binary_counts = item\n",
    "            max_binary_value = key\n",
    "    a_value = int(max_binary_value[-num_qubits:],2)\n",
    "    b_value = int(max_binary_value[:num_qubits],2)\n",
    "    return (a_value, b_value)"
   ]
  },
  {
   "cell_type": "code",
   "execution_count": 39,
   "id": "e0a733ed",
   "metadata": {},
   "outputs": [
    {
     "data": {
      "text/plain": [
       "(5, 11)"
      ]
     },
     "execution_count": 39,
     "metadata": {},
     "output_type": "execute_result"
    }
   ],
   "source": [
    "find_prime_numbers(16, [2,3,5,7,11,13,17])"
   ]
  },
  {
   "cell_type": "code",
   "execution_count": null,
   "id": "acfb6e1a",
   "metadata": {},
   "outputs": [],
   "source": []
  }
 ],
 "metadata": {
  "kernelspec": {
   "display_name": "Python 3 (ipykernel)",
   "language": "python",
   "name": "python3"
  },
  "language_info": {
   "codemirror_mode": {
    "name": "ipython",
    "version": 3
   },
   "file_extension": ".py",
   "mimetype": "text/x-python",
   "name": "python",
   "nbconvert_exporter": "python",
   "pygments_lexer": "ipython3",
   "version": "3.11.2"
  }
 },
 "nbformat": 4,
 "nbformat_minor": 5
}
