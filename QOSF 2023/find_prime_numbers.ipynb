{
 "cells": [
  {
   "cell_type": "markdown",
   "id": "d723f9ad",
   "metadata": {},
   "source": [
    "# Task 1: Find The Prime Numbers"
   ]
  },
  {
   "cell_type": "markdown",
   "id": "e5e8f7fe",
   "metadata": {},
   "source": [
    "#### Given a positive integer and a list of prime numbers, look for the two prime numbers that sum to the positive number."
   ]
  },
  {
   "cell_type": "markdown",
   "id": "c0beb503",
   "metadata": {},
   "source": [
    "## Loading Libraries:"
   ]
  },
  {
   "cell_type": "code",
   "execution_count": 1,
   "id": "c346ff21",
   "metadata": {},
   "outputs": [],
   "source": [
    "import numpy as np\n",
    "import math\n",
    "from qiskit import QuantumCircuit, Aer, QuantumRegister, ClassicalRegister, execute\n",
    "from qiskit.visualization import plot_histogram\n",
    "from qiskit.circuit.library.basis_change import QFT"
   ]
  },
  {
   "cell_type": "markdown",
   "id": "f48960ae",
   "metadata": {},
   "source": [
    "## Distinct Unordered Tuples:\n",
    "#### The implementation of the following function removes redundant decompositions."
   ]
  },
  {
   "cell_type": "code",
   "execution_count": 2,
   "id": "5d03500a",
   "metadata": {},
   "outputs": [],
   "source": [
    "def increasing_tuple(input_list):\n",
    "    # Stores the pairs\n",
    "    increasing_pairs = []\n",
    "    \n",
    "    # Orders the pairs such that the first number is less than or equal to the second\n",
    "    for i in range(len(input_list)):\n",
    "        for j in range(len(input_list)):\n",
    "            if input_list[i]<= input_list[j]:\n",
    "                increasing_pairs.append((input_list[i], input_list[j]))\n",
    "            else:\n",
    "                pass\n",
    "    return increasing_pairs"
   ]
  },
  {
   "cell_type": "markdown",
   "id": "20335df6",
   "metadata": {},
   "source": [
    "## Targeting Bits:\n",
    "#### The following function will target the bits which represents elements in our list."
   ]
  },
  {
   "cell_type": "code",
   "execution_count": 3,
   "id": "1862e5a2",
   "metadata": {},
   "outputs": [],
   "source": [
    "def target_set_circuit(input_list):\n",
    "    # Constructs distinct unordered pairs\n",
    "    pairs = increasing_tuple(input_list)\n",
    "    \n",
    "    # Determines the necessary bits required to represent our elements\n",
    "    num_qubits = int(np.log2(max(input_list)))+1\n",
    "    \n",
    "    # We have an n qubits in the first register, (n+1) qubits in the second register, and 2 ancillas.\n",
    "    ts_circuit = QuantumCircuit(2*num_qubits+3)\n",
    "    \n",
    "    # Performs  bit flips on the elements in the unordered pair and applies x-gates to the corresponding 1's \n",
    "    for j in range(len(pairs)):\n",
    "        for i in range(num_qubits):\n",
    "            if ''.join('1' if x == '0' else '0' for x in bin(pairs[j][0])[2:].zfill(num_qubits))[num_qubits-i-1] == '1':\n",
    "                ts_circuit.x(i)\n",
    "            if ''.join('1' if x == '0' else '0' for x in bin(pairs[j][1])[2:].zfill(num_qubits))[num_qubits-i-1] == '1':\n",
    "                ts_circuit.x(num_qubits + i)\n",
    "                \n",
    "        # Bit flips an ancilla to mark the target state\n",
    "        ts_circuit.mcx(list(range(2*num_qubits)), 2*num_qubits+1)\n",
    "        \n",
    "        # Reverses back to the previous state with the ancilla still marked\n",
    "        for i in range(num_qubits):\n",
    "            if ''.join('1' if x == '0' else '0' for x in bin(pairs[j][0])[2:].zfill(num_qubits))[num_qubits-i-1] == '1':\n",
    "                ts_circuit.x(i)\n",
    "            if ''.join('1' if x == '0' else '0' for x in bin(pairs[j][1])[2:].zfill(num_qubits))[num_qubits-i-1] == '1':\n",
    "                ts_circuit.x(num_qubits + i)\n",
    "        ts_circuit.barrier(range(2*num_qubits+3))\n",
    "    return ts_circuit"
   ]
  },
  {
   "cell_type": "markdown",
   "id": "9f0b70d0",
   "metadata": {},
   "source": [
    "## Constructing The Quantum Adder:\n",
    "#### Through the quantum fourier transform, the following function adds the first register onto the second. This eliminates the need for temporary qubits."
   ]
  },
  {
   "cell_type": "code",
   "execution_count": 4,
   "id": "1ebe0c9b",
   "metadata": {},
   "outputs": [],
   "source": [
    "def quantum_add_circuit(qubits, target_number):\n",
    "    # The additional qubit is to store the qubit after the sum\n",
    "    qa_circuit = QuantumCircuit(2*qubits+1)\n",
    "    \n",
    "    # The following gate changes the basis of the second register from the computational basis to the fourier basis\n",
    "    qa_circuit.append(QFT(qubits+1, do_swaps=False), list(range(qubits, 2*qubits+1)))\n",
    "    \n",
    "    # Constructs a circuit which counts in the fourier basis by applying rotations in the presence of 1 qubits\n",
    "    for j in range(qubits):\n",
    "        for k in range(qubits+1-j):\n",
    "            lamda = np.pi / (2 ** (k))\n",
    "            qa_circuit.cp(lamda, j, k+j+qubits)\n",
    "            \n",
    "    # This gate changes from the fourier basis back to the computational basis\n",
    "    qa_circuit.append(QFT(qubits+1,do_swaps=False).inverse(), list(range(qubits, 2*qubits+1)))\n",
    "    \n",
    "    # This gate changes the target to correspond to the all 1's state in the second register by performing bit flips\n",
    "    for i in range(qubits+1):\n",
    "            if ''.join('1' if x == '0' else '0' for x in bin(target_number)[2:].zfill(qubits+1))[qubits-i] == '1':\n",
    "                qa_circuit.x(i+qubits)\n",
    "    return qa_circuit"
   ]
  },
  {
   "cell_type": "markdown",
   "id": "fa7f8a2d",
   "metadata": {},
   "source": [
    "## Constructing The Oracle:\n",
    "#### The following circuit performs a phase flip on the states which have the 11 state on the ancillas. This corresponds to elements in the set which sum to the target. "
   ]
  },
  {
   "cell_type": "code",
   "execution_count": 5,
   "id": "cdbfd17f",
   "metadata": {},
   "outputs": [],
   "source": [
    "def oracle_circuit(target_number, input_list):\n",
    "    # Determines the size of the circuit based on the list\n",
    "    num_qubits = int(np.log2(max(input_list)))+1\n",
    "    \n",
    "    # Constructs circuit which marks the correct states using the target_set_circuit and the quantum_add_circuit\n",
    "    ts_circuit = target_set_circuit(input_list)\n",
    "    qa_circuit = quantum_add_circuit(num_qubits, target_number)\n",
    "    o_circuit = QuantumCircuit(2*num_qubits+3)\n",
    "    o_circuit.append(ts_circuit, range(2*num_qubits+3))\n",
    "    o_circuit.append(qa_circuit, range(2*num_qubits+1))\n",
    "    \n",
    "    # Marks the state with the correct sum\n",
    "    o_circuit.mcx(list(range(num_qubits, 2*num_qubits+1)), 2*num_qubits+2)\n",
    "    \n",
    "    # Performs a phase flip on the 11 ancillas\n",
    "    o_circuit.cz(2*num_qubits+1,2*num_qubits+2)\n",
    "    \n",
    "    # Reverses to the previous state except with a sign change on the amplitude for the correct states\n",
    "    o_circuit.mcx(list(range(num_qubits, 2*num_qubits+1)), 2*num_qubits+2)\n",
    "    o_circuit.append(qa_circuit.inverse(), range(2*num_qubits+1))\n",
    "    o_circuit.append(ts_circuit.inverse(), range(2*num_qubits+3))\n",
    "    return o_circuit"
   ]
  },
  {
   "cell_type": "markdown",
   "id": "a41e655b",
   "metadata": {},
   "source": [
    "## Constructing The Diffusion Operator:\n",
    "#### The following circuit applies the diffusion operator which amplifies the correct state."
   ]
  },
  {
   "cell_type": "code",
   "execution_count": 6,
   "id": "a9ba47bd",
   "metadata": {},
   "outputs": [],
   "source": [
    "def diffusion_circuit(qubits):\n",
    "    # Determines the size of the circuit\n",
    "    d_circuit = QuantumCircuit(2*qubits+1)\n",
    "    \n",
    "    # Reverses our state which was initialized with hadamard gates\n",
    "    d_circuit.h(range(2*qubits))\n",
    "    \n",
    "    # Performs the reflection across the all 0's state\n",
    "    d_circuit.x(range(2*qubits))\n",
    "    d_circuit.h(2*qubits-1)\n",
    "    d_circuit.mct(list(range(2*qubits-1)), 2*qubits-1) \n",
    "    d_circuit.h(2*qubits-1)\n",
    "    d_circuit.x(range(2*qubits))\n",
    "    \n",
    "    # Reinitializes our state by applying hadamard gates \n",
    "    d_circuit.h(range(2*qubits))\n",
    "    return d_circuit"
   ]
  },
  {
   "cell_type": "markdown",
   "id": "6732babe",
   "metadata": {},
   "source": [
    "## Implementing Grover's Algorithm:\n",
    "#### The following circuit implements Grover's Algorithm by applying iterations of the oracle and the diffusion operator. "
   ]
  },
  {
   "cell_type": "code",
   "execution_count": 7,
   "id": "a4ecc917",
   "metadata": {},
   "outputs": [],
   "source": [
    "def prime_number_circuit(target_number, input_list):\n",
    "    # Determines size of the circuit\n",
    "    num_qubits = int(np.log2(max(input_list)))+1\n",
    "    \n",
    "    # Constructing circuits\n",
    "    o_circuit = oracle_circuit(target_number, input_list)\n",
    "    d_circuit = diffusion_circuit(num_qubits)\n",
    "    pn_circuit = QuantumCircuit(2*num_qubits+3, 2*num_qubits)\n",
    "    \n",
    "    # Initializes to the equal superposition state\n",
    "    pn_circuit.h(range(2*num_qubits))\n",
    "    pn_circuit.barrier(range(2*num_qubits+3))\n",
    "    \n",
    "    # Applies the Grover's Operator where the number of applications depends on the size of the circuit\n",
    "    for j in range(int(math.pi/4*math.sqrt(2**(2*num_qubits)))):\n",
    "        pn_circuit.append(o_circuit, range(2*num_qubits+3))\n",
    "        pn_circuit.append(d_circuit, range(2*num_qubits+1))\n",
    "        \n",
    "    # Measures the first 2n qubits\n",
    "    pn_circuit.measure(list(range(2*num_qubits)),list(range(2*num_qubits)))\n",
    "    return pn_circuit"
   ]
  },
  {
   "cell_type": "markdown",
   "id": "29b84e51",
   "metadata": {},
   "source": [
    "## Determining The Decomposition:\n",
    "#### We run an arbitrary number of simulations to find the most probable decomposition. "
   ]
  },
  {
   "cell_type": "code",
   "execution_count": 8,
   "id": "a91065b8",
   "metadata": {},
   "outputs": [],
   "source": [
    "def find_prime_numbers(target_number, input_list):\n",
    "    # Setting up the simulator\n",
    "    simulator = Aer.get_backend('qasm_simulator')\n",
    "    \n",
    "    # Determines the size of the circuit\n",
    "    num_qubits = int(np.log2(max(input_list)))+1\n",
    "    \n",
    "    # Produces an error if the sum is not possible\n",
    "    if target_number > 2*max(input_list):\n",
    "        print(f\"The number {target_number} exceeds the maximum possible sum in {input_list}.\")\n",
    "        return (None, None)\n",
    "    \n",
    "    # Simulates circuit\n",
    "    pn_circuit = prime_number_circuit(target_number, input_list)\n",
    "    count_quantum_circuit = execute(pn_circuit, backend = simulator, shots = 10000).result().get_counts()\n",
    "    \n",
    "    # Counts the number of times each 2n bit appears and picks the most frequent one\n",
    "    max_binary_counts = 0\n",
    "    max_binary_value = ''\n",
    "    for key, item in count_quantum_circuit.items():\n",
    "        if item > max_binary_counts:\n",
    "            max_binary_counts = item\n",
    "            max_binary_value = key\n",
    "            \n",
    "    # Converts the n bits from the registers to integers\n",
    "    a_value = int(max_binary_value[-num_qubits:],2)\n",
    "    b_value = int(max_binary_value[:num_qubits],2)\n",
    "    \n",
    "    # Checks if the decomposition is correct\n",
    "    if target_number != a_value+b_value: \n",
    "        print(f\"The quantum algorithm could not decompose {target_number} as a sum of two elements in {input_list}.\")\n",
    "        return (None, count_quantum_circuit)\n",
    "    \n",
    "    # If correct, states the decomposition\n",
    "    print(f\"The number {target_number} can be decomposed as {a_value}+{b_value}.\")\n",
    "    # Stores the values as well as the count data\n",
    "    return (a_value, b_value), count_quantum_circuit"
   ]
  },
  {
   "cell_type": "markdown",
   "id": "90c56543",
   "metadata": {},
   "source": [
    "# Testing:\n",
    "#### We test the function for various inputs."
   ]
  },
  {
   "cell_type": "markdown",
   "id": "bb45692a",
   "metadata": {},
   "source": [
    "## Test 1:"
   ]
  },
  {
   "cell_type": "code",
   "execution_count": 9,
   "id": "4a42dbb0",
   "metadata": {},
   "outputs": [
    {
     "name": "stdout",
     "output_type": "stream",
     "text": [
      "The number 6 can be decomposed as 3+3.\n"
     ]
    }
   ],
   "source": [
    "(values_1,count_1) = find_prime_numbers(6, [2,3])"
   ]
  },
  {
   "cell_type": "code",
   "execution_count": 10,
   "id": "85403f04",
   "metadata": {},
   "outputs": [
    {
     "data": {
      "image/png": "[encoded data removed]",
      "text/plain": [
       "<Figure size 700x500 with 1 Axes>"
      ]
     },
     "execution_count": 10,
     "metadata": {},
     "output_type": "execute_result"
    }
   ],
   "source": [
    "# Plots the number of counts in decreasing order\n",
    "plot_histogram(count_1, sort='value_desc')"
   ]
  },
  {
   "cell_type": "markdown",
   "id": "0a0909d9",
   "metadata": {},
   "source": [
    "#### We can see that the state 1111 has been amplified. This corresponds to the bits 11 and 11 which we convert to 3 and 3."
   ]
  },
  {
   "cell_type": "markdown",
   "id": "c912d1d6",
   "metadata": {},
   "source": [
    "## Test 2:"
   ]
  },
  {
   "cell_type": "code",
   "execution_count": 11,
   "id": "ec5840e4",
   "metadata": {},
   "outputs": [
    {
     "name": "stdout",
     "output_type": "stream",
     "text": [
      "The quantum algorithm could not decompose 4 as a sum of two elements in [3].\n"
     ]
    }
   ],
   "source": [
    "(values_2,count_2) = find_prime_numbers(4, [3])"
   ]
  },
  {
   "cell_type": "markdown",
   "id": "53b63dd9",
   "metadata": {},
   "source": [
    "#### From this test, we can see that the circuit has determined it is unlikely the target number can be decomposted. This is reflected in the the plot."
   ]
  },
  {
   "cell_type": "code",
   "execution_count": 12,
   "id": "5042ec8b",
   "metadata": {},
   "outputs": [
    {
     "data": {
      "image/png": "[encoded data removed]",
      "text/plain": [
       "<Figure size 700x500 with 1 Axes>"
      ]
     },
     "execution_count": 12,
     "metadata": {},
     "output_type": "execute_result"
    }
   ],
   "source": [
    "# Plots the number of counts in decreasing order\n",
    "plot_histogram(count_2, sort='value_desc')"
   ]
  },
  {
   "cell_type": "markdown",
   "id": "ee5643a3",
   "metadata": {},
   "source": [
    "#### Since the oracle does not see any solutions, we can see in the plot that no states are amplified."
   ]
  },
  {
   "cell_type": "markdown",
   "id": "32aae42a",
   "metadata": {},
   "source": [
    "## Test 3:\n",
    "#### We now test a few larger values."
   ]
  },
  {
   "cell_type": "code",
   "execution_count": 13,
   "id": "b2488b69",
   "metadata": {},
   "outputs": [
    {
     "name": "stdout",
     "output_type": "stream",
     "text": [
      "The number 18 can be decomposed as 5+13.\n"
     ]
    }
   ],
   "source": [
    "(values_3,count_3) = find_prime_numbers(18, [1,3,5,7,11,13,15])"
   ]
  },
  {
   "cell_type": "markdown",
   "id": "3557942e",
   "metadata": {},
   "source": [
    "## Test 4:"
   ]
  },
  {
   "cell_type": "code",
   "execution_count": 14,
   "id": "0aaf9281",
   "metadata": {},
   "outputs": [
    {
     "name": "stdout",
     "output_type": "stream",
     "text": [
      "The number 32 can be decomposed as 13+19.\n"
     ]
    }
   ],
   "source": [
    "(values_4,count_4) = find_prime_numbers(32, [2,3,5,7,11,13,17,19])"
   ]
  },
  {
   "cell_type": "markdown",
   "id": "bff772c7",
   "metadata": {},
   "source": [
    "## Test 5:"
   ]
  },
  {
   "cell_type": "code",
   "execution_count": 15,
   "id": "28fd56f8",
   "metadata": {},
   "outputs": [
    {
     "name": "stdout",
     "output_type": "stream",
     "text": [
      "The quantum algorithm could not decompose 33 as a sum of two elements in [2, 3, 5, 7, 11, 13, 17, 19].\n"
     ]
    }
   ],
   "source": [
    "(values_5,count_5) = find_prime_numbers(33, [2,3,5,7,11,13,17,19])"
   ]
  },
  {
   "cell_type": "markdown",
   "id": "bba508e6",
   "metadata": {},
   "source": [
    "#### The test determines that there is no decomposition."
   ]
  },
  {
   "cell_type": "markdown",
   "id": "e046a40d",
   "metadata": {},
   "source": [
    "## Drawing The Circuit:\n",
    "#### We draw the circuit involved one iteration of the Grover's Operation."
   ]
  },
  {
   "cell_type": "code",
   "execution_count": 16,
   "id": "3f6343d8",
   "metadata": {},
   "outputs": [
    {
     "data": {
      "image/png": "[encoded data removed]",
      "text/plain": [
       "<Figure size 789.163x535.111 with 1 Axes>"
      ]
     },
     "execution_count": 16,
     "metadata": {},
     "output_type": "execute_result"
    }
   ],
   "source": [
    "prime_number_circuit(2,[1]).draw('mpl')"
   ]
  },
  {
   "cell_type": "markdown",
   "id": "d6a5c8ec",
   "metadata": {},
   "source": [
    "## Remark:\n",
    "#### Although the task states that the input list contains prime numbers, the constructed circuit works for any list of positive integers."
   ]
  }
 ],
 "metadata": {
  "kernelspec": {
   "display_name": "Python 3 (ipykernel)",
   "language": "python",
   "name": "python3"
  },
  "language_info": {
   "codemirror_mode": {
    "name": "ipython",
    "version": 3
   },
   "file_extension": ".py",
   "mimetype": "text/x-python",
   "name": "python",
   "nbconvert_exporter": "python",
   "pygments_lexer": "ipython3",
   "version": "3.11.2"
  }
 },
 "nbformat": 4,
 "nbformat_minor": 5
}
